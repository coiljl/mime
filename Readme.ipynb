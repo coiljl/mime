{
 "metadata": {
  "language": "Julia",
  "name": "",
  "signature": "sha256:9a8775165a98b87bf97591cb4e9fe617f142563a8548891cd710dd92dc499a94"
 },
 "nbformat": 3,
 "nbformat_minor": 0,
 "worksheets": [
  {
   "cells": [
    {
     "cell_type": "markdown",
     "metadata": {},
     "source": [
      "# mime-types\n",
      "\n",
      "Provides file extension to mime type conversion\n",
      "\n",
      "## Installation\n",
      "\n",
      "With [packin](//github.com/jkroso/packin): `packin add coiljl/mime-types`"
     ]
    },
    {
     "cell_type": "code",
     "collapsed": false,
     "input": [
      "@require \"mime-types\" lookup charset content_type compressible;"
     ],
     "language": "python",
     "metadata": {},
     "outputs": [],
     "prompt_number": 1
    },
    {
     "cell_type": "markdown",
     "metadata": {},
     "source": [
      "## API"
     ]
    },
    {
     "cell_type": "markdown",
     "metadata": {},
     "source": [
      "### `lookup(path::String)`\n",
      "\n",
      "Get the mime type for a given file's name"
     ]
    },
    {
     "cell_type": "code",
     "collapsed": false,
     "input": [
      "lookup(\"dependencies.json\")"
     ],
     "language": "python",
     "metadata": {},
     "outputs": [
      {
       "metadata": {},
       "output_type": "pyout",
       "prompt_number": 2,
       "text": [
        "\"application/json\""
       ]
      }
     ],
     "prompt_number": 2
    },
    {
     "cell_type": "markdown",
     "metadata": {},
     "source": [
      "### `charset(mime::String)`\n",
      "\n",
      "Get the default encoding for a given mime type"
     ]
    },
    {
     "cell_type": "code",
     "collapsed": false,
     "input": [
      "charset(\"application/json\")"
     ],
     "language": "python",
     "metadata": {},
     "outputs": [
      {
       "metadata": {},
       "output_type": "pyout",
       "prompt_number": 3,
       "text": [
        "\"UTF-8\""
       ]
      }
     ],
     "prompt_number": 3
    },
    {
     "cell_type": "markdown",
     "metadata": {},
     "source": [
      "### `content_type(mime::String)`\n",
      "\n",
      "Generate the HTTP Content-Type header for `mime`"
     ]
    },
    {
     "cell_type": "code",
     "collapsed": false,
     "input": [
      "content_type(\"application/json\")"
     ],
     "language": "python",
     "metadata": {},
     "outputs": [
      {
       "metadata": {},
       "output_type": "pyout",
       "prompt_number": 4,
       "text": [
        "\"application/json; charset=utf-8\""
       ]
      }
     ],
     "prompt_number": 4
    },
    {
     "cell_type": "markdown",
     "metadata": {},
     "source": [
      "It can also handle file names"
     ]
    },
    {
     "cell_type": "code",
     "collapsed": false,
     "input": [
      "content_type(\"dependencies.json\")"
     ],
     "language": "python",
     "metadata": {},
     "outputs": [
      {
       "metadata": {},
       "output_type": "pyout",
       "prompt_number": 5,
       "text": [
        "\"application/json; charset=utf-8\""
       ]
      }
     ],
     "prompt_number": 5
    },
    {
     "cell_type": "markdown",
     "metadata": {},
     "source": [
      "### `compressible(mime::String)`\n",
      "\n",
      "Lookup if `mime` is known to be compressible or not"
     ]
    },
    {
     "cell_type": "code",
     "collapsed": false,
     "input": [
      "compressible(\"application/json\")"
     ],
     "language": "python",
     "metadata": {},
     "outputs": [
      {
       "metadata": {},
       "output_type": "pyout",
       "prompt_number": 6,
       "text": [
        "true"
       ]
      }
     ],
     "prompt_number": 6
    }
   ],
   "metadata": {}
  }
 ]
}